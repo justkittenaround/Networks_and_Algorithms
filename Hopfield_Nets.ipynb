{
  "nbformat": 4,
  "nbformat_minor": 0,
  "metadata": {
    "colab": {
      "name": "Hopfield_Nets.ipynb",
      "provenance": [],
      "authorship_tag": "ABX9TyMVtJ5730NiWbF358y9thPo",
      "include_colab_link": true
    },
    "kernelspec": {
      "name": "python3",
      "display_name": "Python 3"
    }
  },
  "cells": [
    {
      "cell_type": "markdown",
      "metadata": {
        "id": "view-in-github",
        "colab_type": "text"
      },
      "source": [
        "<a href=\"https://colab.research.google.com/github/justkittenaround/Networks_and_Algorithms/blob/main/Hopfield_Nets.ipynb\" target=\"_parent\"><img src=\"https://colab.research.google.com/assets/colab-badge.svg\" alt=\"Open In Colab\"/></a>"
      ]
    },
    {
      "cell_type": "code",
      "metadata": {
        "id": "TFyEnlI30aaN"
      },
      "source": [
        ""
      ],
      "execution_count": null,
      "outputs": []
    },
    {
      "cell_type": "markdown",
      "metadata": {
        "id": "jC4hc3HB0gfJ"
      },
      "source": [
        "#Hopfield Network"
      ]
    },
    {
      "cell_type": "code",
      "metadata": {
        "id": "cDiKXWHI0iau"
      },
      "source": [
        ""
      ],
      "execution_count": null,
      "outputs": []
    },
    {
      "cell_type": "markdown",
      "metadata": {
        "id": "MTqZKtuE0jE-"
      },
      "source": [
        "#Boltzman Machine"
      ]
    },
    {
      "cell_type": "code",
      "metadata": {
        "id": "gqWLT8J-0lZD"
      },
      "source": [
        ""
      ],
      "execution_count": null,
      "outputs": []
    },
    {
      "cell_type": "markdown",
      "metadata": {
        "id": "Nd_djiZL0l5J"
      },
      "source": [
        "#Restricted Boltzman Machine"
      ]
    },
    {
      "cell_type": "code",
      "metadata": {
        "id": "KXlBMS2c0nsr"
      },
      "source": [
        ""
      ],
      "execution_count": null,
      "outputs": []
    },
    {
      "cell_type": "markdown",
      "metadata": {
        "id": "5drtu6j70oDK"
      },
      "source": [
        "#Bidirectional Associative Machine (BAM)"
      ]
    },
    {
      "cell_type": "code",
      "metadata": {
        "id": "GoO3R6at0ujk"
      },
      "source": [
        ""
      ],
      "execution_count": null,
      "outputs": []
    },
    {
      "cell_type": "markdown",
      "metadata": {
        "id": "StUmXT0u0vFu"
      },
      "source": [
        "#Self-organizing Map (SOM)"
      ]
    },
    {
      "cell_type": "code",
      "metadata": {
        "id": "DLr3aBtF0xhi"
      },
      "source": [
        ""
      ],
      "execution_count": null,
      "outputs": []
    }
  ]
}
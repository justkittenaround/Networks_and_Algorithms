{
  "nbformat": 4,
  "nbformat_minor": 0,
  "metadata": {
    "colab": {
      "name": "Random_Booleans.ipynb",
      "provenance": [],
      "authorship_tag": "ABX9TyPrAS5u/7xwmM2eZ+6FnXB9",
      "include_colab_link": true
    },
    "kernelspec": {
      "name": "python3",
      "display_name": "Python 3"
    }
  },
  "cells": [
    {
      "cell_type": "markdown",
      "metadata": {
        "id": "view-in-github",
        "colab_type": "text"
      },
      "source": [
        "<a href=\"https://colab.research.google.com/github/justkittenaround/Networks_and_Algorithms/blob/main/Random_Booleans.ipynb\" target=\"_parent\"><img src=\"https://colab.research.google.com/assets/colab-badge.svg\" alt=\"Open In Colab\"/></a>"
      ]
    },
    {
      "cell_type": "code",
      "metadata": {
        "id": "kaNeGF102qFo"
      },
      "source": [
        ""
      ],
      "execution_count": null,
      "outputs": []
    },
    {
      "cell_type": "markdown",
      "metadata": {
        "id": "VkdW4WH72qlx"
      },
      "source": [
        "#Random Boolean"
      ]
    },
    {
      "cell_type": "code",
      "metadata": {
        "id": "Beu5Cld92sWt"
      },
      "source": [
        ""
      ],
      "execution_count": null,
      "outputs": []
    },
    {
      "cell_type": "markdown",
      "metadata": {
        "id": "fV4JpodG2sr7"
      },
      "source": [
        "#NK-Random Boolean"
      ]
    },
    {
      "cell_type": "code",
      "metadata": {
        "id": "BE2GXezU2uLI"
      },
      "source": [
        ""
      ],
      "execution_count": null,
      "outputs": []
    }
  ]
}